{
  "nbformat": 4,
  "nbformat_minor": 0,
  "metadata": {
    "colab": {
      "provenance": []
    },
    "kernelspec": {
      "name": "python3",
      "display_name": "Python 3"
    },
    "language_info": {
      "name": "python"
    }
  },
  "cells": [
    {
      "cell_type": "markdown",
      "source": [
        "# **Objective**\n",
        "\n",
        "In this assignment, you will explore a real-world dataset on climate change and use linear regression techniques to analyze how various environmental factors affect the average global temperature. You'll apply both univariate and multivariate regression, learn how to handle categorical variables, and evaluate model performance using R², residuals, and other goodness-of-fit measures.\n",
        "\n"
      ],
      "metadata": {
        "id": "LQKrQvOKXZl_"
      }
    },
    {
      "cell_type": "markdown",
      "source": [
        "# **Dataset Description**\n",
        "You are provided with a dataset named climate_change.csv, which contains climate records from May 1983 to December 2008. The key columns include:\n",
        "\n",
        "Year, Month: Temporal indicators\n",
        "\n",
        "Temp: Temperature anomaly in °C (the target variable)\n",
        "\n",
        "Atmospheric gases: CO2, N2O, CH4, CFC.11, CFC.12\n",
        "\n",
        "Aerosols, TSI, MEI: Other climate-related indicators"
      ],
      "metadata": {
        "id": "LiT5RndhXzp5"
      }
    },
    {
      "cell_type": "markdown",
      "source": [
        "# **Assignment Tasks**\n",
        "\n",
        "# 1. Data Loading and Exploration\n",
        "\n",
        "\n",
        "*   Load the dataset using pandas.\n",
        "*   Display the first few rows.\n"
      ],
      "metadata": {
        "id": "txLhhOheYEZl"
      }
    },
    {
      "cell_type": "code",
      "source": [
        "import pandas as pd\n"
      ],
      "metadata": {
        "id": "CoiN_w-zXnoF"
      },
      "execution_count": null,
      "outputs": []
    },
    {
      "cell_type": "markdown",
      "source": [
        "# 2. Univariate Linear Regression\n",
        "\n",
        "2.1:\n",
        "*   Build a simple linear regression model to predict Temp using only CO2.\n",
        "*   Plot the regression line.\n",
        "*   Report the R² value."
      ],
      "metadata": {
        "id": "yeDNMXHkYjsO"
      }
    },
    {
      "cell_type": "code",
      "source": [
        "from sklearn.linear_model import LinearRegression\n",
        "from sklearn.metrics import r2_score\n",
        "import matplotlib.pyplot as plt\n"
      ],
      "metadata": {
        "id": "fdUT31wZYu2v"
      },
      "execution_count": null,
      "outputs": []
    },
    {
      "cell_type": "markdown",
      "source": [
        "2.2: What does this R² value tell you about your model's performance?\n",
        "\n",
        "Answer the question here:\n"
      ],
      "metadata": {
        "id": "qHO6mqjqzPYk"
      }
    },
    {
      "cell_type": "markdown",
      "source": [
        "# 3. Multivariate Linear Regression\n",
        "\n",
        "\n",
        "\n",
        "*   Use all numerical variables except Year, Month, and Temp to predict temperature.\n",
        "*   Report the R² value.\n",
        "*   Predict and calculate residuals.\n",
        "*   Plot the new residuals."
      ],
      "metadata": {
        "id": "x0Sn8f7qY06q"
      }
    },
    {
      "cell_type": "code",
      "source": [
        "import seaborn as sns\n",
        "import matplotlib.pyplot as plt\n"
      ],
      "metadata": {
        "id": "gNcp-sNXY0bL"
      },
      "execution_count": null,
      "outputs": []
    },
    {
      "cell_type": "markdown",
      "source": [
        "# 4. Handling Categorical Variables\n",
        "\n",
        "\n",
        "*   Add the **Month variable** into the regression using **one-hot encoding** (Also including all numerical variables).\n",
        "*   Fit the new model and report the R² value."
      ],
      "metadata": {
        "id": "KWNcsiCqZBBC"
      }
    },
    {
      "cell_type": "code",
      "source": [],
      "metadata": {
        "id": "or_g8Q5-ZJrb"
      },
      "execution_count": null,
      "outputs": []
    },
    {
      "cell_type": "markdown",
      "source": [
        "# 4. Try a Transformation\n",
        "\n",
        "*   Use all numerical variables except Year, Month, and Temp to predict temperature like Q3.\n",
        "*   Transform the target variable using log-plus-one transformation.\n",
        "*   Refit the model.\n",
        "*   Predict and calculate residuals\n",
        "*   Plot the new residuals"
      ],
      "metadata": {
        "id": "G4k7jSjPZNvn"
      }
    },
    {
      "cell_type": "code",
      "source": [
        "import numpy as np\n"
      ],
      "metadata": {
        "id": "OvgJ3iPq2JWc"
      },
      "execution_count": null,
      "outputs": []
    },
    {
      "cell_type": "markdown",
      "source": [
        "Compare to the residuals Plot in Q3, did the transformation improve the residual pattern? Why or why not?\n",
        "\n",
        "Answer question here:\n"
      ],
      "metadata": {
        "id": "HHwNsp3o6oxd"
      }
    }
  ]
}